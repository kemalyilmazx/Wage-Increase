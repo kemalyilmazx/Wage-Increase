{
 "cells": [
  {
   "cell_type": "code",
   "execution_count": 97,
   "metadata": {
    "collapsed": true
   },
   "outputs": [],
   "source": [
    "import pandas as pd\n",
    "import numpy as np\n",
    "import seaborn as sns\n",
    "import matplotlib.pyplot as plt\n",
    "%matplotlib inline"
   ]
  },
  {
   "cell_type": "code",
   "execution_count": 98,
   "metadata": {
    "collapsed": true
   },
   "outputs": [],
   "source": [
    "prgeng = pd.read_csv(\"prgeng.csv\")"
   ]
  },
  {
   "cell_type": "code",
   "execution_count": 99,
   "metadata": {},
   "outputs": [
    {
     "data": {
      "text/html": [
       "<div>\n",
       "<style scoped>\n",
       "    .dataframe tbody tr th:only-of-type {\n",
       "        vertical-align: middle;\n",
       "    }\n",
       "\n",
       "    .dataframe tbody tr th {\n",
       "        vertical-align: top;\n",
       "    }\n",
       "\n",
       "    .dataframe thead th {\n",
       "        text-align: right;\n",
       "    }\n",
       "</style>\n",
       "<table border=\"1\" class=\"dataframe\">\n",
       "  <thead>\n",
       "    <tr style=\"text-align: right;\">\n",
       "      <th></th>\n",
       "      <th>Unnamed: 0</th>\n",
       "      <th>age</th>\n",
       "      <th>cit</th>\n",
       "      <th>educ</th>\n",
       "      <th>engl</th>\n",
       "      <th>occ</th>\n",
       "      <th>birth</th>\n",
       "      <th>sex</th>\n",
       "      <th>wageinc</th>\n",
       "      <th>wkswrkd</th>\n",
       "      <th>yrentry</th>\n",
       "      <th>powspuma</th>\n",
       "    </tr>\n",
       "  </thead>\n",
       "  <tbody>\n",
       "    <tr>\n",
       "      <th>0</th>\n",
       "      <td>1</td>\n",
       "      <td>50.300816</td>\n",
       "      <td>1</td>\n",
       "      <td>13</td>\n",
       "      <td>0</td>\n",
       "      <td>102</td>\n",
       "      <td>6</td>\n",
       "      <td>2</td>\n",
       "      <td>75000</td>\n",
       "      <td>52</td>\n",
       "      <td>0</td>\n",
       "      <td>6010</td>\n",
       "    </tr>\n",
       "    <tr>\n",
       "      <th>1</th>\n",
       "      <td>2</td>\n",
       "      <td>41.101390</td>\n",
       "      <td>1</td>\n",
       "      <td>9</td>\n",
       "      <td>0</td>\n",
       "      <td>101</td>\n",
       "      <td>6</td>\n",
       "      <td>1</td>\n",
       "      <td>12300</td>\n",
       "      <td>20</td>\n",
       "      <td>0</td>\n",
       "      <td>0</td>\n",
       "    </tr>\n",
       "    <tr>\n",
       "      <th>2</th>\n",
       "      <td>3</td>\n",
       "      <td>24.673740</td>\n",
       "      <td>1</td>\n",
       "      <td>9</td>\n",
       "      <td>0</td>\n",
       "      <td>102</td>\n",
       "      <td>6</td>\n",
       "      <td>2</td>\n",
       "      <td>15400</td>\n",
       "      <td>52</td>\n",
       "      <td>0</td>\n",
       "      <td>6010</td>\n",
       "    </tr>\n",
       "    <tr>\n",
       "      <th>3</th>\n",
       "      <td>4</td>\n",
       "      <td>50.199512</td>\n",
       "      <td>1</td>\n",
       "      <td>11</td>\n",
       "      <td>0</td>\n",
       "      <td>100</td>\n",
       "      <td>8</td>\n",
       "      <td>1</td>\n",
       "      <td>0</td>\n",
       "      <td>52</td>\n",
       "      <td>0</td>\n",
       "      <td>0</td>\n",
       "    </tr>\n",
       "    <tr>\n",
       "      <th>4</th>\n",
       "      <td>5</td>\n",
       "      <td>51.181124</td>\n",
       "      <td>1</td>\n",
       "      <td>11</td>\n",
       "      <td>0</td>\n",
       "      <td>100</td>\n",
       "      <td>6</td>\n",
       "      <td>2</td>\n",
       "      <td>160</td>\n",
       "      <td>1</td>\n",
       "      <td>0</td>\n",
       "      <td>6010</td>\n",
       "    </tr>\n",
       "  </tbody>\n",
       "</table>\n",
       "</div>"
      ],
      "text/plain": [
       "   Unnamed: 0        age  cit  educ  engl  occ  birth  sex  wageinc  wkswrkd  \\\n",
       "0           1  50.300816    1    13     0  102      6    2    75000       52   \n",
       "1           2  41.101390    1     9     0  101      6    1    12300       20   \n",
       "2           3  24.673740    1     9     0  102      6    2    15400       52   \n",
       "3           4  50.199512    1    11     0  100      8    1        0       52   \n",
       "4           5  51.181124    1    11     0  100      6    2      160        1   \n",
       "\n",
       "   yrentry  powspuma  \n",
       "0        0      6010  \n",
       "1        0         0  \n",
       "2        0      6010  \n",
       "3        0         0  \n",
       "4        0      6010  "
      ]
     },
     "execution_count": 99,
     "metadata": {},
     "output_type": "execute_result"
    }
   ],
   "source": [
    "prgengprgeng.head()"
   ]
  },
  {
   "cell_type": "code",
   "execution_count": 102,
   "metadata": {},
   "outputs": [
    {
     "name": "stdout",
     "output_type": "stream",
     "text": [
      "<class 'pandas.core.frame.DataFrame'>\n",
      "RangeIndex: 20090 entries, 0 to 20089\n",
      "Data columns (total 11 columns):\n",
      "age         20090 non-null float64\n",
      "cit         20090 non-null int64\n",
      "educ        20090 non-null int64\n",
      "engl        20090 non-null int64\n",
      "occ         20090 non-null int64\n",
      "birth       20090 non-null int64\n",
      "sex         20090 non-null int64\n",
      "wageinc     20090 non-null int64\n",
      "wkswrkd     20090 non-null int64\n",
      "yrentry     20090 non-null int64\n",
      "powspuma    20090 non-null int64\n",
      "dtypes: float64(1), int64(10)\n",
      "memory usage: 1.7 MB\n"
     ]
    }
   ],
   "source": [
    "prgeng.drop([\"Unnamed: 0\"], inplace= True, axis= 1)\n",
    "prgeng.info()"
   ]
  },
  {
   "cell_type": "code",
   "execution_count": 103,
   "metadata": {},
   "outputs": [
    {
     "data": {
      "text/html": [
       "<div>\n",
       "<style scoped>\n",
       "    .dataframe tbody tr th:only-of-type {\n",
       "        vertical-align: middle;\n",
       "    }\n",
       "\n",
       "    .dataframe tbody tr th {\n",
       "        vertical-align: top;\n",
       "    }\n",
       "\n",
       "    .dataframe thead th {\n",
       "        text-align: right;\n",
       "    }\n",
       "</style>\n",
       "<table border=\"1\" class=\"dataframe\">\n",
       "  <thead>\n",
       "    <tr style=\"text-align: right;\">\n",
       "      <th></th>\n",
       "      <th>age</th>\n",
       "      <th>cit</th>\n",
       "      <th>educ</th>\n",
       "      <th>engl</th>\n",
       "      <th>occ</th>\n",
       "      <th>birth</th>\n",
       "      <th>sex</th>\n",
       "      <th>wageinc</th>\n",
       "      <th>wkswrkd</th>\n",
       "      <th>yrentry</th>\n",
       "      <th>powspuma</th>\n",
       "    </tr>\n",
       "  </thead>\n",
       "  <tbody>\n",
       "    <tr>\n",
       "      <th>count</th>\n",
       "      <td>20090.000000</td>\n",
       "      <td>20090.000000</td>\n",
       "      <td>20090.000000</td>\n",
       "      <td>20090.000000</td>\n",
       "      <td>20090.000000</td>\n",
       "      <td>20090.000000</td>\n",
       "      <td>20090.000000</td>\n",
       "      <td>20090.000000</td>\n",
       "      <td>20090.000000</td>\n",
       "      <td>20090.000000</td>\n",
       "      <td>20090.000000</td>\n",
       "    </tr>\n",
       "    <tr>\n",
       "      <th>mean</th>\n",
       "      <td>39.551056</td>\n",
       "      <td>2.356048</td>\n",
       "      <td>12.639174</td>\n",
       "      <td>5.062369</td>\n",
       "      <td>108.520707</td>\n",
       "      <td>98.711996</td>\n",
       "      <td>1.244301</td>\n",
       "      <td>60341.348432</td>\n",
       "      <td>45.158785</td>\n",
       "      <td>774.215580</td>\n",
       "      <td>5590.435391</td>\n",
       "    </tr>\n",
       "    <tr>\n",
       "      <th>std</th>\n",
       "      <td>11.222363</td>\n",
       "      <td>1.734853</td>\n",
       "      <td>1.638846</td>\n",
       "      <td>7.337958</td>\n",
       "      <td>15.313064</td>\n",
       "      <td>108.014591</td>\n",
       "      <td>0.429682</td>\n",
       "      <td>48777.287353</td>\n",
       "      <td>14.600989</td>\n",
       "      <td>968.526747</td>\n",
       "      <td>3065.687950</td>\n",
       "    </tr>\n",
       "    <tr>\n",
       "      <th>min</th>\n",
       "      <td>16.005762</td>\n",
       "      <td>1.000000</td>\n",
       "      <td>1.000000</td>\n",
       "      <td>0.000000</td>\n",
       "      <td>100.000000</td>\n",
       "      <td>1.000000</td>\n",
       "      <td>1.000000</td>\n",
       "      <td>0.000000</td>\n",
       "      <td>0.000000</td>\n",
       "      <td>0.000000</td>\n",
       "      <td>0.000000</td>\n",
       "    </tr>\n",
       "    <tr>\n",
       "      <th>25%</th>\n",
       "      <td>30.811983</td>\n",
       "      <td>1.000000</td>\n",
       "      <td>12.000000</td>\n",
       "      <td>0.000000</td>\n",
       "      <td>101.000000</td>\n",
       "      <td>6.000000</td>\n",
       "      <td>1.000000</td>\n",
       "      <td>31900.000000</td>\n",
       "      <td>48.000000</td>\n",
       "      <td>0.000000</td>\n",
       "      <td>6130.000000</td>\n",
       "    </tr>\n",
       "    <tr>\n",
       "      <th>50%</th>\n",
       "      <td>38.215150</td>\n",
       "      <td>1.000000</td>\n",
       "      <td>13.000000</td>\n",
       "      <td>0.000000</td>\n",
       "      <td>102.000000</td>\n",
       "      <td>36.000000</td>\n",
       "      <td>1.000000</td>\n",
       "      <td>58000.000000</td>\n",
       "      <td>52.000000</td>\n",
       "      <td>0.000000</td>\n",
       "      <td>6160.000000</td>\n",
       "    </tr>\n",
       "    <tr>\n",
       "      <th>75%</th>\n",
       "      <td>46.951904</td>\n",
       "      <td>4.000000</td>\n",
       "      <td>14.000000</td>\n",
       "      <td>10.000000</td>\n",
       "      <td>102.000000</td>\n",
       "      <td>210.000000</td>\n",
       "      <td>1.000000</td>\n",
       "      <td>80000.000000</td>\n",
       "      <td>52.000000</td>\n",
       "      <td>1982.000000</td>\n",
       "      <td>6309.000000</td>\n",
       "    </tr>\n",
       "    <tr>\n",
       "      <th>max</th>\n",
       "      <td>93.734037</td>\n",
       "      <td>5.000000</td>\n",
       "      <td>16.000000</td>\n",
       "      <td>41.000000</td>\n",
       "      <td>141.000000</td>\n",
       "      <td>528.000000</td>\n",
       "      <td>2.000000</td>\n",
       "      <td>325000.000000</td>\n",
       "      <td>52.000000</td>\n",
       "      <td>2000.000000</td>\n",
       "      <td>53080.000000</td>\n",
       "    </tr>\n",
       "  </tbody>\n",
       "</table>\n",
       "</div>"
      ],
      "text/plain": [
       "                age           cit          educ          engl           occ  \\\n",
       "count  20090.000000  20090.000000  20090.000000  20090.000000  20090.000000   \n",
       "mean      39.551056      2.356048     12.639174      5.062369    108.520707   \n",
       "std       11.222363      1.734853      1.638846      7.337958     15.313064   \n",
       "min       16.005762      1.000000      1.000000      0.000000    100.000000   \n",
       "25%       30.811983      1.000000     12.000000      0.000000    101.000000   \n",
       "50%       38.215150      1.000000     13.000000      0.000000    102.000000   \n",
       "75%       46.951904      4.000000     14.000000     10.000000    102.000000   \n",
       "max       93.734037      5.000000     16.000000     41.000000    141.000000   \n",
       "\n",
       "              birth           sex        wageinc       wkswrkd       yrentry  \\\n",
       "count  20090.000000  20090.000000   20090.000000  20090.000000  20090.000000   \n",
       "mean      98.711996      1.244301   60341.348432     45.158785    774.215580   \n",
       "std      108.014591      0.429682   48777.287353     14.600989    968.526747   \n",
       "min        1.000000      1.000000       0.000000      0.000000      0.000000   \n",
       "25%        6.000000      1.000000   31900.000000     48.000000      0.000000   \n",
       "50%       36.000000      1.000000   58000.000000     52.000000      0.000000   \n",
       "75%      210.000000      1.000000   80000.000000     52.000000   1982.000000   \n",
       "max      528.000000      2.000000  325000.000000     52.000000   2000.000000   \n",
       "\n",
       "           powspuma  \n",
       "count  20090.000000  \n",
       "mean    5590.435391  \n",
       "std     3065.687950  \n",
       "min        0.000000  \n",
       "25%     6130.000000  \n",
       "50%     6160.000000  \n",
       "75%     6309.000000  \n",
       "max    53080.000000  "
      ]
     },
     "execution_count": 103,
     "metadata": {},
     "output_type": "execute_result"
    }
   ],
   "source": [
    "prgeng.describe()"
   ]
  },
  {
   "cell_type": "code",
   "execution_count": 104,
   "metadata": {
    "collapsed": true
   },
   "outputs": [],
   "source": [
    "## Adding ms and phd column regarding education year\n",
    "## Adding fem column whether individual is female or male. In original data set, code 1 is for male and code 2 is for female.\n",
    "prgeng[\"ms\"]= np.where(prgeng[\"educ\"]== 14, 1, 0)\n",
    "prgeng[\"phd\"]= np.where(prgeng[\"educ\"]== 16, 1, 0)\n",
    "prgeng[\"fem\"]= np.where(prgeng[\"sex\"] == 2, 1, 0) "
   ]
  },
  {
   "cell_type": "code",
   "execution_count": 105,
   "metadata": {},
   "outputs": [
    {
     "data": {
      "text/html": [
       "<div>\n",
       "<style scoped>\n",
       "    .dataframe tbody tr th:only-of-type {\n",
       "        vertical-align: middle;\n",
       "    }\n",
       "\n",
       "    .dataframe tbody tr th {\n",
       "        vertical-align: top;\n",
       "    }\n",
       "\n",
       "    .dataframe thead th {\n",
       "        text-align: right;\n",
       "    }\n",
       "</style>\n",
       "<table border=\"1\" class=\"dataframe\">\n",
       "  <thead>\n",
       "    <tr style=\"text-align: right;\">\n",
       "      <th></th>\n",
       "      <th>age</th>\n",
       "      <th>cit</th>\n",
       "      <th>educ</th>\n",
       "      <th>engl</th>\n",
       "      <th>occ</th>\n",
       "      <th>birth</th>\n",
       "      <th>sex</th>\n",
       "      <th>wageinc</th>\n",
       "      <th>wkswrkd</th>\n",
       "      <th>yrentry</th>\n",
       "      <th>powspuma</th>\n",
       "      <th>ms</th>\n",
       "      <th>phd</th>\n",
       "      <th>fem</th>\n",
       "    </tr>\n",
       "  </thead>\n",
       "  <tbody>\n",
       "    <tr>\n",
       "      <th>0</th>\n",
       "      <td>50.300816</td>\n",
       "      <td>1</td>\n",
       "      <td>13</td>\n",
       "      <td>0</td>\n",
       "      <td>102</td>\n",
       "      <td>6</td>\n",
       "      <td>2</td>\n",
       "      <td>75000</td>\n",
       "      <td>52</td>\n",
       "      <td>0</td>\n",
       "      <td>6010</td>\n",
       "      <td>0</td>\n",
       "      <td>0</td>\n",
       "      <td>1</td>\n",
       "    </tr>\n",
       "    <tr>\n",
       "      <th>1</th>\n",
       "      <td>41.101390</td>\n",
       "      <td>1</td>\n",
       "      <td>9</td>\n",
       "      <td>0</td>\n",
       "      <td>101</td>\n",
       "      <td>6</td>\n",
       "      <td>1</td>\n",
       "      <td>12300</td>\n",
       "      <td>20</td>\n",
       "      <td>0</td>\n",
       "      <td>0</td>\n",
       "      <td>0</td>\n",
       "      <td>0</td>\n",
       "      <td>0</td>\n",
       "    </tr>\n",
       "    <tr>\n",
       "      <th>2</th>\n",
       "      <td>24.673740</td>\n",
       "      <td>1</td>\n",
       "      <td>9</td>\n",
       "      <td>0</td>\n",
       "      <td>102</td>\n",
       "      <td>6</td>\n",
       "      <td>2</td>\n",
       "      <td>15400</td>\n",
       "      <td>52</td>\n",
       "      <td>0</td>\n",
       "      <td>6010</td>\n",
       "      <td>0</td>\n",
       "      <td>0</td>\n",
       "      <td>1</td>\n",
       "    </tr>\n",
       "    <tr>\n",
       "      <th>3</th>\n",
       "      <td>50.199512</td>\n",
       "      <td>1</td>\n",
       "      <td>11</td>\n",
       "      <td>0</td>\n",
       "      <td>100</td>\n",
       "      <td>8</td>\n",
       "      <td>1</td>\n",
       "      <td>0</td>\n",
       "      <td>52</td>\n",
       "      <td>0</td>\n",
       "      <td>0</td>\n",
       "      <td>0</td>\n",
       "      <td>0</td>\n",
       "      <td>0</td>\n",
       "    </tr>\n",
       "    <tr>\n",
       "      <th>4</th>\n",
       "      <td>51.181124</td>\n",
       "      <td>1</td>\n",
       "      <td>11</td>\n",
       "      <td>0</td>\n",
       "      <td>100</td>\n",
       "      <td>6</td>\n",
       "      <td>2</td>\n",
       "      <td>160</td>\n",
       "      <td>1</td>\n",
       "      <td>0</td>\n",
       "      <td>6010</td>\n",
       "      <td>0</td>\n",
       "      <td>0</td>\n",
       "      <td>1</td>\n",
       "    </tr>\n",
       "  </tbody>\n",
       "</table>\n",
       "</div>"
      ],
      "text/plain": [
       "         age  cit  educ  engl  occ  birth  sex  wageinc  wkswrkd  yrentry  \\\n",
       "0  50.300816    1    13     0  102      6    2    75000       52        0   \n",
       "1  41.101390    1     9     0  101      6    1    12300       20        0   \n",
       "2  24.673740    1     9     0  102      6    2    15400       52        0   \n",
       "3  50.199512    1    11     0  100      8    1        0       52        0   \n",
       "4  51.181124    1    11     0  100      6    2      160        1        0   \n",
       "\n",
       "   powspuma  ms  phd  fem  \n",
       "0      6010   0    0    1  \n",
       "1         0   0    0    0  \n",
       "2      6010   0    0    1  \n",
       "3         0   0    0    0  \n",
       "4      6010   0    0    1  "
      ]
     },
     "execution_count": 105,
     "metadata": {},
     "output_type": "execute_result"
    }
   ],
   "source": [
    "prgeng.head()"
   ]
  },
  {
   "cell_type": "code",
   "execution_count": 106,
   "metadata": {
    "collapsed": true
   },
   "outputs": [],
   "source": [
    "## Adding interaction parameters which are \"age times gender\" and \"age times age\" (square of age)\n",
    "prgeng[\"age_squared\"]= prgeng[\"age\"]**2\n",
    "prgeng[\"age&gender\"]= prgeng[\"age\"] * prgeng[\"fem\"]"
   ]
  },
  {
   "cell_type": "code",
   "execution_count": 107,
   "metadata": {
    "collapsed": true
   },
   "outputs": [],
   "source": [
    "from sklearn.linear_model import LinearRegression\n",
    "from sklearn.cross_validation import train_test_split"
   ]
  },
  {
   "cell_type": "code",
   "execution_count": 108,
   "metadata": {
    "collapsed": true
   },
   "outputs": [],
   "source": [
    "## In the linear model, we will include age, age_squared, wkswrkd, ms, phd, fem and age&gender to calculate wageinc\n",
    "## Though the model is quadratic, parameters can be used in the linear model.\n",
    "X= prgeng[[\"age\", \"age_squared\", \"wkswrkd\", \"ms\", \"phd\", \"fem\", \"age&gender\"]]\n",
    "y= prgeng[\"wageinc\"]"
   ]
  },
  {
   "cell_type": "code",
   "execution_count": 109,
   "metadata": {
    "collapsed": true
   },
   "outputs": [],
   "source": [
    "X_train, X_test, y_train, y_test = train_test_split(X, y, test_size=0.7, random_state=101)"
   ]
  },
  {
   "cell_type": "code",
   "execution_count": 110,
   "metadata": {
    "collapsed": true
   },
   "outputs": [],
   "source": [
    "linear_model = LinearRegression()\n",
    "linear_model.fit(X_train, y_train)\n",
    "predictions = linear_model.predict(X_test)"
   ]
  },
  {
   "cell_type": "code",
   "execution_count": 111,
   "metadata": {},
   "outputs": [
    {
     "data": {
      "text/html": [
       "<div>\n",
       "<style scoped>\n",
       "    .dataframe tbody tr th:only-of-type {\n",
       "        vertical-align: middle;\n",
       "    }\n",
       "\n",
       "    .dataframe tbody tr th {\n",
       "        vertical-align: top;\n",
       "    }\n",
       "\n",
       "    .dataframe thead th {\n",
       "        text-align: right;\n",
       "    }\n",
       "</style>\n",
       "<table border=\"1\" class=\"dataframe\">\n",
       "  <thead>\n",
       "    <tr style=\"text-align: right;\">\n",
       "      <th></th>\n",
       "      <th>Features</th>\n",
       "      <th>Coefficient Estimate</th>\n",
       "    </tr>\n",
       "  </thead>\n",
       "  <tbody>\n",
       "    <tr>\n",
       "      <th>0</th>\n",
       "      <td>age</td>\n",
       "      <td>4104.906321</td>\n",
       "    </tr>\n",
       "    <tr>\n",
       "      <th>1</th>\n",
       "      <td>age_squared</td>\n",
       "      <td>-41.895243</td>\n",
       "    </tr>\n",
       "    <tr>\n",
       "      <th>2</th>\n",
       "      <td>wkswrkd</td>\n",
       "      <td>1192.006165</td>\n",
       "    </tr>\n",
       "    <tr>\n",
       "      <th>3</th>\n",
       "      <td>ms</td>\n",
       "      <td>14990.688268</td>\n",
       "    </tr>\n",
       "    <tr>\n",
       "      <th>4</th>\n",
       "      <td>phd</td>\n",
       "      <td>25208.258391</td>\n",
       "    </tr>\n",
       "    <tr>\n",
       "      <th>5</th>\n",
       "      <td>fem</td>\n",
       "      <td>-219.286596</td>\n",
       "    </tr>\n",
       "    <tr>\n",
       "      <th>6</th>\n",
       "      <td>age&amp;gender</td>\n",
       "      <td>-286.799285</td>\n",
       "    </tr>\n",
       "  </tbody>\n",
       "</table>\n",
       "</div>"
      ],
      "text/plain": [
       "      Features  Coefficient Estimate\n",
       "0          age           4104.906321\n",
       "1  age_squared            -41.895243\n",
       "2      wkswrkd           1192.006165\n",
       "3           ms          14990.688268\n",
       "4          phd          25208.258391\n",
       "5          fem           -219.286596\n",
       "6   age&gender           -286.799285"
      ]
     },
     "execution_count": 111,
     "metadata": {},
     "output_type": "execute_result"
    }
   ],
   "source": [
    "# Getting correlation coefficient for features\n",
    "coeff = pd.DataFrame(X.columns)\n",
    "coeff.columns = ['Features']\n",
    "coeff[\"Coefficient Estimate\"] = pd.Series(linear_model.coef_)\n",
    "coeff"
   ]
  },
  {
   "cell_type": "code",
   "execution_count": 112,
   "metadata": {},
   "outputs": [
    {
     "data": {
      "text/plain": [
       "-86317.33570010035"
      ]
     },
     "execution_count": 112,
     "metadata": {},
     "output_type": "execute_result"
    }
   ],
   "source": [
    "## Getting intercept\n",
    "linear_model.intercept_"
   ]
  },
  {
   "cell_type": "code",
   "execution_count": 113,
   "metadata": {},
   "outputs": [
    {
     "name": "stdout",
     "output_type": "stream",
     "text": [
      "Linear model to predict wage increase: -86317.33570010035 + age  *  4104.906320568408 +  age_squared  *  -41.895243417366835 +  wkswrkd  *  1192.006164618216 +  ms  *  14990.688268494188 +  phd  *  25208.258390572053 +  fem  *  -219.28659570118884 +  age&gender  *  -286.7992852356054\n"
     ]
    }
   ],
   "source": [
    "print(\"Linear model to predict wage increase:\", float(linear_model.intercept_), \"+\",\n",
    "      coeff.iloc[0][0], \" * \" ,coeff.iloc[0][1], \"+ \",\n",
    "      coeff.iloc[1][0], \" * \" ,coeff.iloc[1][1], \"+ \",\n",
    "      coeff.iloc[2][0], \" * \" ,coeff.iloc[2][1], \"+ \",\n",
    "      coeff.iloc[3][0], \" * \" ,coeff.iloc[3][1], \"+ \",\n",
    "      coeff.iloc[4][0], \" * \" ,coeff.iloc[4][1], \"+ \",\n",
    "      coeff.iloc[5][0], \" * \" ,coeff.iloc[5][1], \"+ \",\n",
    "      coeff.iloc[6][0], \" * \" ,coeff.iloc[6][1])   "
   ]
  },
  {
   "cell_type": "code",
   "execution_count": 114,
   "metadata": {},
   "outputs": [
    {
     "name": "stdout",
     "output_type": "stream",
     "text": [
      "Wage increase prediction of a 32 years-old female who has master degree: -86317.33570010035 + 4104.906320568408  *  32 +  -41.895243417366835  *  1024 +  1192.006164618216  *  40 +  14990.688268494188  *  1 +  25208.258390572053  *  0 +  -219.28659570118884  *  1 +  -286.7992852356054  *  32\n"
     ]
    }
   ],
   "source": [
    "## Predicting wage increase of a 32 years-old female who has master degree and works 40 hours a week\n",
    "print(\"Wage increase prediction of a 32 years-old female who has master degree:\", float(linear_model.intercept_), \"+\",\n",
    "      coeff.iloc[0][1], \" * \" ,32, \"+ \",\n",
    "      coeff.iloc[1][1], \" * \" ,32*32, \"+ \",\n",
    "      coeff.iloc[2][1], \" * \" ,40, \"+ \",\n",
    "      coeff.iloc[3][1], \" * \" ,1, \"+ \",\n",
    "      coeff.iloc[4][1], \" * \" ,0, \"+ \",\n",
    "      coeff.iloc[5][1], \" * \" ,1, \"+ \",\n",
    "      coeff.iloc[6][1], \" * \" , 32*1,)   "
   ]
  },
  {
   "cell_type": "code",
   "execution_count": 115,
   "metadata": {},
   "outputs": [
    {
     "name": "stdout",
     "output_type": "stream",
     "text": [
      "Wage increase of a 32 years-old female who has master degree: $ 55413.00842868733\n"
     ]
    }
   ],
   "source": [
    "## Predicting wage increase of a 32 years-old female who has master degree and works 40 hours a week\n",
    "print(\"Wage increase of a 32 years-old female who has master degree: $\",float(linear_model.intercept_) + \n",
    "      coeff.iloc[0][1] * 32 +\n",
    "      coeff.iloc[1][1] * 32*32 +\n",
    "      coeff.iloc[2][1] * 40 + \n",
    "      coeff.iloc[3][1] * 1 +\n",
    "      coeff.iloc[4][1] * 0 +\n",
    "      coeff.iloc[5][1] * 1 +\n",
    "      coeff.iloc[6][1] * 32*1)   "
   ]
  },
  {
   "cell_type": "code",
   "execution_count": 67,
   "metadata": {
    "collapsed": true
   },
   "outputs": [],
   "source": [
    "## Another model, which does not take into account age&gender as a parameter.\n",
    "X= prgeng[[\"age\", \"age_squared\", \"wkswrkd\", \"ms\", \"phd\", \"fem\"]]\n",
    "y= prgeng[\"wageinc\"]"
   ]
  },
  {
   "cell_type": "code",
   "execution_count": 68,
   "metadata": {
    "collapsed": true
   },
   "outputs": [],
   "source": [
    "X_train, X_test, y_train, y_test = train_test_split(X, y, test_size=0.7, random_state=101)"
   ]
  },
  {
   "cell_type": "code",
   "execution_count": 72,
   "metadata": {
    "collapsed": true
   },
   "outputs": [],
   "source": [
    "linear_model = LinearRegression()\n",
    "linear_model.fit(X_train, y_train)\n",
    "predictions = linear_model.predict(X_test)"
   ]
  },
  {
   "cell_type": "code",
   "execution_count": 77,
   "metadata": {},
   "outputs": [
    {
     "data": {
      "text/html": [
       "<div>\n",
       "<style scoped>\n",
       "    .dataframe tbody tr th:only-of-type {\n",
       "        vertical-align: middle;\n",
       "    }\n",
       "\n",
       "    .dataframe tbody tr th {\n",
       "        vertical-align: top;\n",
       "    }\n",
       "\n",
       "    .dataframe thead th {\n",
       "        text-align: right;\n",
       "    }\n",
       "</style>\n",
       "<table border=\"1\" class=\"dataframe\">\n",
       "  <thead>\n",
       "    <tr style=\"text-align: right;\">\n",
       "      <th></th>\n",
       "      <th>Features</th>\n",
       "      <th>Coefficient Estimate</th>\n",
       "    </tr>\n",
       "  </thead>\n",
       "  <tbody>\n",
       "    <tr>\n",
       "      <th>0</th>\n",
       "      <td>age</td>\n",
       "      <td>3989.720391</td>\n",
       "    </tr>\n",
       "    <tr>\n",
       "      <th>1</th>\n",
       "      <td>age_squared</td>\n",
       "      <td>-41.183698</td>\n",
       "    </tr>\n",
       "    <tr>\n",
       "      <th>2</th>\n",
       "      <td>wkswrkd</td>\n",
       "      <td>1193.372365</td>\n",
       "    </tr>\n",
       "    <tr>\n",
       "      <th>3</th>\n",
       "      <td>ms</td>\n",
       "      <td>15127.536618</td>\n",
       "    </tr>\n",
       "    <tr>\n",
       "      <th>4</th>\n",
       "      <td>phd</td>\n",
       "      <td>25380.972525</td>\n",
       "    </tr>\n",
       "    <tr>\n",
       "      <th>5</th>\n",
       "      <td>fem</td>\n",
       "      <td>-11479.485660</td>\n",
       "    </tr>\n",
       "  </tbody>\n",
       "</table>\n",
       "</div>"
      ],
      "text/plain": [
       "      Features  Coefficient Estimate\n",
       "0          age           3989.720391\n",
       "1  age_squared            -41.183698\n",
       "2      wkswrkd           1193.372365\n",
       "3           ms          15127.536618\n",
       "4          phd          25380.972525\n",
       "5          fem         -11479.485660"
      ]
     },
     "execution_count": 77,
     "metadata": {},
     "output_type": "execute_result"
    }
   ],
   "source": [
    "# Getting correlation coefficient for features\n",
    "coeff = pd.DataFrame(X.columns)\n",
    "coeff.columns = ['Features']\n",
    "coeff[\"Coefficient Estimate\"] = pd.Series(linear_model.coef_)\n",
    "coeff"
   ]
  },
  {
   "cell_type": "code",
   "execution_count": 78,
   "metadata": {},
   "outputs": [
    {
     "data": {
      "text/plain": [
       "-83067.49600814658"
      ]
     },
     "execution_count": 78,
     "metadata": {},
     "output_type": "execute_result"
    }
   ],
   "source": [
    "## Getting intercept\n",
    "linear_model.intercept_"
   ]
  },
  {
   "cell_type": "code",
   "execution_count": 79,
   "metadata": {},
   "outputs": [
    {
     "name": "stdout",
     "output_type": "stream",
     "text": [
      "Linear model to predict wage increase: -83067.49600814658 + age  *  3989.7203905496676 +  age_squared  *  -41.18369785124812 +  wkswrkd  *  1193.37236470181 +  ms  *  15127.53661843803 +  phd  *  25380.972525256184 +  fem  *  -11479.485660216758\n"
     ]
    }
   ],
   "source": [
    "print(\"Linear model to predict wage increase:\", float(linear_model.intercept_), \"+\",\n",
    "      coeff.iloc[0][0], \" * \" ,coeff.iloc[0][1], \"+ \",\n",
    "      coeff.iloc[1][0], \" * \" ,coeff.iloc[1][1], \"+ \",\n",
    "      coeff.iloc[2][0], \" * \" ,coeff.iloc[2][1], \"+ \",\n",
    "      coeff.iloc[3][0], \" * \" ,coeff.iloc[3][1], \"+ \",\n",
    "      coeff.iloc[4][0], \" * \" ,coeff.iloc[4][1], \"+ \",\n",
    "      coeff.iloc[5][0], \" * \" ,coeff.iloc[5][1])  "
   ]
  },
  {
   "cell_type": "code",
   "execution_count": 81,
   "metadata": {
    "collapsed": true
   },
   "outputs": [],
   "source": [
    "import statsmodels.formula.api as smf"
   ]
  },
  {
   "cell_type": "code",
   "execution_count": 121,
   "metadata": {},
   "outputs": [
    {
     "data": {
      "text/html": [
       "<div>\n",
       "<style scoped>\n",
       "    .dataframe tbody tr th:only-of-type {\n",
       "        vertical-align: middle;\n",
       "    }\n",
       "\n",
       "    .dataframe tbody tr th {\n",
       "        vertical-align: top;\n",
       "    }\n",
       "\n",
       "    .dataframe thead th {\n",
       "        text-align: right;\n",
       "    }\n",
       "</style>\n",
       "<table border=\"1\" class=\"dataframe\">\n",
       "  <thead>\n",
       "    <tr style=\"text-align: right;\">\n",
       "      <th></th>\n",
       "      <th>wageinc</th>\n",
       "      <th>age</th>\n",
       "      <th>age_squared</th>\n",
       "      <th>wkswrkd</th>\n",
       "      <th>ms</th>\n",
       "      <th>phd</th>\n",
       "      <th>fem</th>\n",
       "    </tr>\n",
       "  </thead>\n",
       "  <tbody>\n",
       "    <tr>\n",
       "      <th>0</th>\n",
       "      <td>75000</td>\n",
       "      <td>50.300816</td>\n",
       "      <td>2530.172097</td>\n",
       "      <td>52</td>\n",
       "      <td>0</td>\n",
       "      <td>0</td>\n",
       "      <td>1</td>\n",
       "    </tr>\n",
       "    <tr>\n",
       "      <th>1</th>\n",
       "      <td>12300</td>\n",
       "      <td>41.101390</td>\n",
       "      <td>1689.324291</td>\n",
       "      <td>20</td>\n",
       "      <td>0</td>\n",
       "      <td>0</td>\n",
       "      <td>0</td>\n",
       "    </tr>\n",
       "    <tr>\n",
       "      <th>2</th>\n",
       "      <td>15400</td>\n",
       "      <td>24.673740</td>\n",
       "      <td>608.793464</td>\n",
       "      <td>52</td>\n",
       "      <td>0</td>\n",
       "      <td>0</td>\n",
       "      <td>1</td>\n",
       "    </tr>\n",
       "    <tr>\n",
       "      <th>3</th>\n",
       "      <td>0</td>\n",
       "      <td>50.199512</td>\n",
       "      <td>2519.991010</td>\n",
       "      <td>52</td>\n",
       "      <td>0</td>\n",
       "      <td>0</td>\n",
       "      <td>0</td>\n",
       "    </tr>\n",
       "    <tr>\n",
       "      <th>4</th>\n",
       "      <td>160</td>\n",
       "      <td>51.181124</td>\n",
       "      <td>2619.507411</td>\n",
       "      <td>1</td>\n",
       "      <td>0</td>\n",
       "      <td>0</td>\n",
       "      <td>1</td>\n",
       "    </tr>\n",
       "  </tbody>\n",
       "</table>\n",
       "</div>"
      ],
      "text/plain": [
       "   wageinc        age  age_squared  wkswrkd  ms  phd  fem\n",
       "0    75000  50.300816  2530.172097       52   0    0    1\n",
       "1    12300  41.101390  1689.324291       20   0    0    0\n",
       "2    15400  24.673740   608.793464       52   0    0    1\n",
       "3        0  50.199512  2519.991010       52   0    0    0\n",
       "4      160  51.181124  2619.507411        1   0    0    1"
      ]
     },
     "execution_count": 121,
     "metadata": {},
     "output_type": "execute_result"
    }
   ],
   "source": [
    "df= prgeng[[\"wageinc\",\"age\", \"age_squared\", \"wkswrkd\", \"ms\", \"phd\", \"fem\"]]\n",
    "df.head()"
   ]
  },
  {
   "cell_type": "code",
   "execution_count": 123,
   "metadata": {
    "collapsed": true
   },
   "outputs": [],
   "source": [
    "## Creating a fitted model\n",
    "lm1 = smf.ols(formula='wageinc ~ age+age_squared+wkswrkd+ms+phd+fem', data=df).fit()"
   ]
  },
  {
   "cell_type": "code",
   "execution_count": 146,
   "metadata": {},
   "outputs": [
    {
     "data": {
      "text/html": [
       "<div>\n",
       "<style scoped>\n",
       "    .dataframe tbody tr th:only-of-type {\n",
       "        vertical-align: middle;\n",
       "    }\n",
       "\n",
       "    .dataframe tbody tr th {\n",
       "        vertical-align: top;\n",
       "    }\n",
       "\n",
       "    .dataframe thead th {\n",
       "        text-align: right;\n",
       "    }\n",
       "</style>\n",
       "<table border=\"1\" class=\"dataframe\">\n",
       "  <thead>\n",
       "    <tr style=\"text-align: right;\">\n",
       "      <th></th>\n",
       "      <th>Coefficients</th>\n",
       "    </tr>\n",
       "  </thead>\n",
       "  <tbody>\n",
       "    <tr>\n",
       "      <th>Intercept</th>\n",
       "      <td>-81136.701681</td>\n",
       "    </tr>\n",
       "    <tr>\n",
       "      <th>age</th>\n",
       "      <td>3900.352215</td>\n",
       "    </tr>\n",
       "    <tr>\n",
       "      <th>age_squared</th>\n",
       "      <td>-40.328893</td>\n",
       "    </tr>\n",
       "    <tr>\n",
       "      <th>wkswrkd</th>\n",
       "      <td>1196.389763</td>\n",
       "    </tr>\n",
       "    <tr>\n",
       "      <th>ms</th>\n",
       "      <td>15431.073935</td>\n",
       "    </tr>\n",
       "    <tr>\n",
       "      <th>phd</th>\n",
       "      <td>23183.973204</td>\n",
       "    </tr>\n",
       "    <tr>\n",
       "      <th>fem</th>\n",
       "      <td>-11484.490055</td>\n",
       "    </tr>\n",
       "  </tbody>\n",
       "</table>\n",
       "</div>"
      ],
      "text/plain": [
       "             Coefficients\n",
       "Intercept   -81136.701681\n",
       "age           3900.352215\n",
       "age_squared    -40.328893\n",
       "wkswrkd       1196.389763\n",
       "ms           15431.073935\n",
       "phd          23183.973204\n",
       "fem         -11484.490055"
      ]
     },
     "execution_count": 146,
     "metadata": {},
     "output_type": "execute_result"
    }
   ],
   "source": [
    "# Coefficients\n",
    "coefficients = pd.DataFrame(lm1.params)\n",
    "coefficients.columns = [\"Coefficients\"]\n",
    "coefficients"
   ]
  },
  {
   "cell_type": "code",
   "execution_count": 144,
   "metadata": {},
   "outputs": [
    {
     "data": {
      "text/html": [
       "<div>\n",
       "<style scoped>\n",
       "    .dataframe tbody tr th:only-of-type {\n",
       "        vertical-align: middle;\n",
       "    }\n",
       "\n",
       "    .dataframe tbody tr th {\n",
       "        vertical-align: top;\n",
       "    }\n",
       "\n",
       "    .dataframe thead th {\n",
       "        text-align: right;\n",
       "    }\n",
       "</style>\n",
       "<table border=\"1\" class=\"dataframe\">\n",
       "  <thead>\n",
       "    <tr style=\"text-align: right;\">\n",
       "      <th></th>\n",
       "      <th>Lower Confidence Interval</th>\n",
       "      <th>Upper Confidence Interval</th>\n",
       "    </tr>\n",
       "  </thead>\n",
       "  <tbody>\n",
       "    <tr>\n",
       "      <th>Intercept</th>\n",
       "      <td>-87575.081126</td>\n",
       "      <td>-74698.322236</td>\n",
       "    </tr>\n",
       "    <tr>\n",
       "      <th>age</th>\n",
       "      <td>3569.542149</td>\n",
       "      <td>4231.162280</td>\n",
       "    </tr>\n",
       "    <tr>\n",
       "      <th>age_squared</th>\n",
       "      <td>-44.150978</td>\n",
       "      <td>-36.506808</td>\n",
       "    </tr>\n",
       "    <tr>\n",
       "      <th>wkswrkd</th>\n",
       "      <td>1153.477198</td>\n",
       "      <td>1239.302327</td>\n",
       "    </tr>\n",
       "    <tr>\n",
       "      <th>ms</th>\n",
       "      <td>13982.970854</td>\n",
       "      <td>16879.177015</td>\n",
       "    </tr>\n",
       "    <tr>\n",
       "      <th>phd</th>\n",
       "      <td>19995.513332</td>\n",
       "      <td>26372.433077</td>\n",
       "    </tr>\n",
       "    <tr>\n",
       "      <th>fem</th>\n",
       "      <td>-12866.934849</td>\n",
       "      <td>-10102.045261</td>\n",
       "    </tr>\n",
       "  </tbody>\n",
       "</table>\n",
       "</div>"
      ],
      "text/plain": [
       "             Lower Confidence Interval  Upper Confidence Interval\n",
       "Intercept                -87575.081126              -74698.322236\n",
       "age                        3569.542149                4231.162280\n",
       "age_squared                 -44.150978                 -36.506808\n",
       "wkswrkd                    1153.477198                1239.302327\n",
       "ms                        13982.970854               16879.177015\n",
       "phd                       19995.513332               26372.433077\n",
       "fem                      -12866.934849              -10102.045261"
      ]
     },
     "execution_count": 144,
     "metadata": {},
     "output_type": "execute_result"
    }
   ],
   "source": [
    "## 95% Confidence Interval\n",
    "CI = pd.DataFrame(lm1.conf_int())\n",
    "CI.columns = [\"Lower Confidence Interval\", \"Upper Confidence Interval\"]\n",
    "CI"
   ]
  },
  {
   "cell_type": "code",
   "execution_count": null,
   "metadata": {
    "collapsed": true
   },
   "outputs": [],
   "source": [
    "print(\"Linear model to predict density:\", float(linear_model.intercept_), \"+\",\n",
    "      coeff.iloc[0][0], \" * \" ,coeff.iloc[0][1], \"+ \",\n",
    "      coeff.iloc[1][0], \" * \" ,coeff.iloc[1][1], \"+ \",\n",
    "      coeff.iloc[2][0], \" * \" ,coeff.iloc[2][1], \"+ \",\n",
    "      coeff.iloc[3][0], \" * \" ,coeff.iloc[3][1], \"+ \",\n",
    "      coeff.iloc[4][0], \" * \" ,coeff.iloc[4][1], \"+ \",\n",
    "      coeff.iloc[5][0], \" * \" ,coeff.iloc[5][1], \"+ \",\n",
    "      coeff.iloc[6][0], \" * \" ,coeff.iloc[6][1], \"+ \",\n",
    "      coeff.iloc[7][0], \" * \" ,coeff.iloc[7][1], \"+ \",\n",
    "      coeff.iloc[8][0], \" * \" ,coeff.iloc[8][1], \"+ \",\n",
    "      coeff.iloc[9][0], \" * \" ,coeff.iloc[9][1], \"+ \",\n",
    "      coeff.iloc[10][0], \" * \" ,coeff.iloc[10][1], \"+ \",\n",
    "      coeff.iloc[11][0], \" * \" ,coeff.iloc[11][1], \"+ \",\n",
    "      coeff.iloc[12][0], \" * \" ,coeff.iloc[12][1]) "
   ]
  },
  {
   "cell_type": "code",
   "execution_count": null,
   "metadata": {
    "collapsed": true
   },
   "outputs": [],
   "source": []
  },
  {
   "cell_type": "code",
   "execution_count": null,
   "metadata": {
    "collapsed": true
   },
   "outputs": [],
   "source": []
  }
 ],
 "metadata": {
  "kernelspec": {
   "display_name": "Python 3",
   "language": "python",
   "name": "python3"
  },
  "language_info": {
   "codemirror_mode": {
    "name": "ipython",
    "version": 3
   },
   "file_extension": ".py",
   "mimetype": "text/x-python",
   "name": "python",
   "nbconvert_exporter": "python",
   "pygments_lexer": "ipython3",
   "version": "3.6.1"
  }
 },
 "nbformat": 4,
 "nbformat_minor": 2
}
